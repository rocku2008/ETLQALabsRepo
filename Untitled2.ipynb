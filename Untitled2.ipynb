{
 "cells": [
  {
   "cell_type": "code",
   "execution_count": 1,
   "id": "be3e2fa0-2620-437d-8201-986b264da11a",
   "metadata": {},
   "outputs": [
    {
     "name": "stdout",
     "output_type": "stream",
     "text": [
      "Collecting cx_Oracle\n",
      "  Using cached cx_Oracle-8.3.0.tar.gz (363 kB)\n",
      "  Installing build dependencies: started\n",
      "  Installing build dependencies: finished with status 'done'\n",
      "  Getting requirements to build wheel: started\n",
      "  Getting requirements to build wheel: finished with status 'done'\n",
      "  Preparing metadata (pyproject.toml): started\n",
      "  Preparing metadata (pyproject.toml): finished with status 'done'\n",
      "Building wheels for collected packages: cx_Oracle\n",
      "  Building wheel for cx_Oracle (pyproject.toml): started\n",
      "  Building wheel for cx_Oracle (pyproject.toml): finished with status 'error'\n",
      "Failed to build cx_Oracle\n",
      "Note: you may need to restart the kernel to use updated packages.\n"
     ]
    },
    {
     "name": "stderr",
     "output_type": "stream",
     "text": [
      "  error: subprocess-exited-with-error\n",
      "  \n",
      "  Building wheel for cx_Oracle (pyproject.toml) did not run successfully.\n",
      "  exit code: 1\n",
      "  \n",
      "  [13 lines of output]\n",
      "  <string>:6: DeprecationWarning: pkg_resources is deprecated as an API. See https://setuptools.pypa.io/en/latest/pkg_resources.html\n",
      "  C:\\Users\\souls\\AppData\\Local\\Temp\\pip-build-env-zg1x2bdg\\overlay\\Lib\\site-packages\\setuptools\\config\\expand.py:126: SetuptoolsWarning: File 'C:\\\\Users\\\\souls\\\\AppData\\\\Local\\\\Temp\\\\pip-install-9pzlbks4\\\\cx-oracle_88bb002d7225499a89fdb9193610d566\\\\README.md' cannot be found\n",
      "    for path in _filter_existing_files(_filepaths)\n",
      "  running bdist_wheel\n",
      "  running build\n",
      "  running build_ext\n",
      "  building 'cx_Oracle' extension\n",
      "  creating build\\temp.win-amd64-cpython-312\\Release\\odpi\\src\n",
      "  creating build\\temp.win-amd64-cpython-312\\Release\\src\n",
      "  \"C:\\Program Files (x86)\\Microsoft Visual Studio\\2022\\BuildTools\\VC\\Tools\\MSVC\\14.41.34120\\bin\\HostX86\\x64\\cl.exe\" /c /nologo /O2 /W3 /GL /DNDEBUG /MD -DCXO_BUILD_VERSION=8.3.0 -Iodpi/include -Iodpi/src -IC:\\Python312\\include -IC:\\Python312\\Include \"-IC:\\Program Files (x86)\\Microsoft Visual Studio\\2022\\BuildTools\\VC\\Tools\\MSVC\\14.41.34120\\include\" \"-IC:\\Program Files (x86)\\Microsoft Visual Studio\\2022\\BuildTools\\VC\\Auxiliary\\VS\\include\" \"-IC:\\Program Files (x86)\\Windows Kits\\NETFXSDK\\4.8\\include\\um\" /Tcodpi\\src\\dpiConn.c /Fobuild\\temp.win-amd64-cpython-312\\Release\\odpi\\src\\dpiConn.obj\n",
      "  dpiConn.c\n",
      "  C:\\Users\\souls\\AppData\\Local\\Temp\\pip-install-9pzlbks4\\cx-oracle_88bb002d7225499a89fdb9193610d566\\odpi\\src\\dpiImpl.h(34): fatal error C1083: Cannot open include file: 'stdlib.h': No such file or directory\n",
      "  error: command 'C:\\\\Program Files (x86)\\\\Microsoft Visual Studio\\\\2022\\\\BuildTools\\\\VC\\\\Tools\\\\MSVC\\\\14.41.34120\\\\bin\\\\HostX86\\\\x64\\\\cl.exe' failed with exit code 2\n",
      "  [end of output]\n",
      "  \n",
      "  note: This error originates from a subprocess, and is likely not a problem with pip.\n",
      "  ERROR: Failed building wheel for cx_Oracle\n",
      "ERROR: ERROR: Failed to build installable wheels for some pyproject.toml based projects (cx_Oracle)\n"
     ]
    }
   ],
   "source": [
    "pip install cx_Oracle --pre"
   ]
  },
  {
   "cell_type": "code",
   "execution_count": 3,
   "id": "0ee5e92b-ada7-4ac9-adc3-a88e997332e7",
   "metadata": {},
   "outputs": [
    {
     "name": "stdout",
     "output_type": "stream",
     "text": [
      "Collecting cx_OracleNote: you may need to restart the kernel to use updated packages.\n",
      "\n",
      "  Using cached cx_Oracle-8.3.0.tar.gz (363 kB)\n",
      "  Installing build dependencies: started\n",
      "  Installing build dependencies: finished with status 'done'\n",
      "  Getting requirements to build wheel: started\n",
      "  Getting requirements to build wheel: finished with status 'done'\n",
      "  Preparing metadata (pyproject.toml): started\n",
      "  Preparing metadata (pyproject.toml): finished with status 'done'\n",
      "Building wheels for collected packages: cx_Oracle\n",
      "  Building wheel for cx_Oracle (pyproject.toml): started\n",
      "  Building wheel for cx_Oracle (pyproject.toml): finished with status 'error'\n",
      "Failed to build cx_Oracle\n"
     ]
    },
    {
     "name": "stderr",
     "output_type": "stream",
     "text": [
      "  error: subprocess-exited-with-error\n",
      "  \n",
      "  Building wheel for cx_Oracle (pyproject.toml) did not run successfully.\n",
      "  exit code: 1\n",
      "  \n",
      "  [8 lines of output]\n",
      "  <string>:6: DeprecationWarning: pkg_resources is deprecated as an API. See https://setuptools.pypa.io/en/latest/pkg_resources.html\n",
      "  C:\\Users\\souls\\AppData\\Local\\Temp\\pip-build-env-0kyt0f18\\overlay\\Lib\\site-packages\\setuptools\\config\\expand.py:126: SetuptoolsWarning: File 'C:\\\\Users\\\\souls\\\\AppData\\\\Local\\\\Temp\\\\pip-install-m3zy5ofq\\\\cx-oracle_d295399292fa46828c299b6d85941d2d\\\\README.md' cannot be found\n",
      "    for path in _filter_existing_files(_filepaths)\n",
      "  running bdist_wheel\n",
      "  running build\n",
      "  running build_ext\n",
      "  building 'cx_Oracle' extension\n",
      "  error: Microsoft Visual C++ 14.0 or greater is required. Get it with \"Microsoft C++ Build Tools\": https://visualstudio.microsoft.com/visual-cpp-build-tools/\n",
      "  [end of output]\n",
      "  \n",
      "  note: This error originates from a subprocess, and is likely not a problem with pip.\n",
      "  ERROR: Failed building wheel for cx_Oracle\n",
      "ERROR: ERROR: Failed to build installable wheels for some pyproject.toml based projects (cx_Oracle)\n"
     ]
    }
   ],
   "source": [
    "pip install cx_Oracle\n"
   ]
  },
  {
   "cell_type": "code",
   "execution_count": null,
   "id": "4d97e0af-0f8d-480d-a17a-f38292e5be42",
   "metadata": {},
   "outputs": [],
   "source": []
  },
  {
   "cell_type": "code",
   "execution_count": 2,
   "id": "392e58f1-c882-4588-a7a0-9e1b8122242c",
   "metadata": {},
   "outputs": [
    {
     "name": "stdout",
     "output_type": "stream",
     "text": [
      "Collecting cx_OracleNote: you may need to restart the kernel to use updated packages.\n",
      "\n",
      "  Using cached cx_Oracle-8.3.0.tar.gz (363 kB)\n",
      "  Installing build dependencies: started\n",
      "  Installing build dependencies: finished with status 'done'\n",
      "  Getting requirements to build wheel: started\n",
      "  Getting requirements to build wheel: finished with status 'done'\n",
      "  Preparing metadata (pyproject.toml): started\n",
      "  Preparing metadata (pyproject.toml): finished with status 'done'\n",
      "Building wheels for collected packages: cx_Oracle\n",
      "  Building wheel for cx_Oracle (pyproject.toml): started\n",
      "  Building wheel for cx_Oracle (pyproject.toml): finished with status 'error'\n",
      "Failed to build cx_Oracle\n"
     ]
    },
    {
     "name": "stderr",
     "output_type": "stream",
     "text": [
      "  error: subprocess-exited-with-error\n",
      "  \n",
      "  Building wheel for cx_Oracle (pyproject.toml) did not run successfully.\n",
      "  exit code: 1\n",
      "  \n",
      "  [8 lines of output]\n",
      "  <string>:6: DeprecationWarning: pkg_resources is deprecated as an API. See https://setuptools.pypa.io/en/latest/pkg_resources.html\n",
      "  C:\\Users\\souls\\AppData\\Local\\Temp\\pip-build-env-8b_j7_2k\\overlay\\Lib\\site-packages\\setuptools\\config\\expand.py:126: SetuptoolsWarning: File 'C:\\\\Users\\\\souls\\\\AppData\\\\Local\\\\Temp\\\\pip-install-h6rz88sx\\\\cx-oracle_b947a173be2d46538a8b615d54763772\\\\README.md' cannot be found\n",
      "    for path in _filter_existing_files(_filepaths)\n",
      "  running bdist_wheel\n",
      "  running build\n",
      "  running build_ext\n",
      "  building 'cx_Oracle' extension\n",
      "  error: Microsoft Visual C++ 14.0 or greater is required. Get it with \"Microsoft C++ Build Tools\": https://visualstudio.microsoft.com/visual-cpp-build-tools/\n",
      "  [end of output]\n",
      "  \n",
      "  note: This error originates from a subprocess, and is likely not a problem with pip.\n",
      "  ERROR: Failed building wheel for cx_Oracle\n",
      "ERROR: ERROR: Failed to build installable wheels for some pyproject.toml based projects (cx_Oracle)\n"
     ]
    }
   ],
   "source": [
    "pip install cx_Oracle\n"
   ]
  },
  {
   "cell_type": "code",
   "execution_count": null,
   "id": "76578f9e-7cbd-47dc-80dc-039fbdababe3",
   "metadata": {},
   "outputs": [],
   "source": [
    "pip install cx_Oracle --pre"
   ]
  }
 ],
 "metadata": {
  "kernelspec": {
   "display_name": "Python 3 (ipykernel)",
   "language": "python",
   "name": "python3"
  },
  "language_info": {
   "codemirror_mode": {
    "name": "ipython",
    "version": 3
   },
   "file_extension": ".py",
   "mimetype": "text/x-python",
   "name": "python",
   "nbconvert_exporter": "python",
   "pygments_lexer": "ipython3",
   "version": "3.12.6"
  }
 },
 "nbformat": 4,
 "nbformat_minor": 5
}
