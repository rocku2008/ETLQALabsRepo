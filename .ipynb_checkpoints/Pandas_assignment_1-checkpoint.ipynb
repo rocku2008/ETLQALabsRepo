{
 "cells": [
  {
   "cell_type": "code",
   "execution_count": 1,
   "id": "29be2fb1-8ea7-493f-ac0e-5b6a7995b592",
   "metadata": {},
   "outputs": [
    {
     "data": {
      "text/html": [
       "<div>\n",
       "<style scoped>\n",
       "    .dataframe tbody tr th:only-of-type {\n",
       "        vertical-align: middle;\n",
       "    }\n",
       "\n",
       "    .dataframe tbody tr th {\n",
       "        vertical-align: top;\n",
       "    }\n",
       "\n",
       "    .dataframe thead th {\n",
       "        text-align: right;\n",
       "    }\n",
       "</style>\n",
       "<table border=\"1\" class=\"dataframe\">\n",
       "  <thead>\n",
       "    <tr style=\"text-align: right;\">\n",
       "      <th></th>\n",
       "      <th>job_title</th>\n",
       "      <th>age</th>\n",
       "    </tr>\n",
       "  </thead>\n",
       "  <tbody>\n",
       "    <tr>\n",
       "      <th>0</th>\n",
       "      <td>Manager</td>\n",
       "      <td>45</td>\n",
       "    </tr>\n",
       "    <tr>\n",
       "      <th>1</th>\n",
       "      <td>Engineer</td>\n",
       "      <td>30</td>\n",
       "    </tr>\n",
       "    <tr>\n",
       "      <th>2</th>\n",
       "      <td>Manager</td>\n",
       "      <td>35</td>\n",
       "    </tr>\n",
       "    <tr>\n",
       "      <th>3</th>\n",
       "      <td>Engineer</td>\n",
       "      <td>28</td>\n",
       "    </tr>\n",
       "    <tr>\n",
       "      <th>4</th>\n",
       "      <td>Manager</td>\n",
       "      <td>50</td>\n",
       "    </tr>\n",
       "  </tbody>\n",
       "</table>\n",
       "</div>"
      ],
      "text/plain": [
       "  job_title  age\n",
       "0   Manager   45\n",
       "1  Engineer   30\n",
       "2   Manager   35\n",
       "3  Engineer   28\n",
       "4   Manager   50"
      ]
     },
     "execution_count": 1,
     "metadata": {},
     "output_type": "execute_result"
    }
   ],
   "source": [
    "import pandas as pd\n",
    "df=pd.read_csv('Testdata.csv')\n",
    "df"
   ]
  },
  {
   "cell_type": "code",
   "execution_count": 67,
   "id": "d6b1a6ba-f3cc-42ec-a097-d5c531aaedf5",
   "metadata": {},
   "outputs": [
    {
     "data": {
      "text/html": [
       "<div>\n",
       "<style scoped>\n",
       "    .dataframe tbody tr th:only-of-type {\n",
       "        vertical-align: middle;\n",
       "    }\n",
       "\n",
       "    .dataframe tbody tr th {\n",
       "        vertical-align: top;\n",
       "    }\n",
       "\n",
       "    .dataframe thead th {\n",
       "        text-align: right;\n",
       "    }\n",
       "</style>\n",
       "<table border=\"1\" class=\"dataframe\">\n",
       "  <thead>\n",
       "    <tr style=\"text-align: right;\">\n",
       "      <th></th>\n",
       "      <th>job_title</th>\n",
       "      <th>average_age</th>\n",
       "    </tr>\n",
       "  </thead>\n",
       "  <tbody>\n",
       "    <tr>\n",
       "      <th>0</th>\n",
       "      <td>Engineer</td>\n",
       "      <td>29.000000</td>\n",
       "    </tr>\n",
       "    <tr>\n",
       "      <th>1</th>\n",
       "      <td>Manager</td>\n",
       "      <td>43.333333</td>\n",
       "    </tr>\n",
       "  </tbody>\n",
       "</table>\n",
       "</div>"
      ],
      "text/plain": [
       "  job_title  average_age\n",
       "0  Engineer    29.000000\n",
       "1   Manager    43.333333"
      ]
     },
     "execution_count": 67,
     "metadata": {},
     "output_type": "execute_result"
    }
   ],
   "source": [
    "#1.Write a script to calculate the average age of employees grouped by their job titles.\n",
    "# select job_title,avg(age) from testdata group by job_title;\n",
    "df.groupby('job_title')['age'].mean().reset_index(name='average_age')"
   ]
  },
  {
   "cell_type": "code",
   "execution_count": 69,
   "id": "c39e89af-f31c-427e-a8a4-eef82d8c181b",
   "metadata": {},
   "outputs": [
    {
     "data": {
      "text/html": [
       "<div>\n",
       "<style scoped>\n",
       "    .dataframe tbody tr th:only-of-type {\n",
       "        vertical-align: middle;\n",
       "    }\n",
       "\n",
       "    .dataframe tbody tr th {\n",
       "        vertical-align: top;\n",
       "    }\n",
       "\n",
       "    .dataframe thead th {\n",
       "        text-align: right;\n",
       "    }\n",
       "</style>\n",
       "<table border=\"1\" class=\"dataframe\">\n",
       "  <thead>\n",
       "    <tr style=\"text-align: right;\">\n",
       "      <th></th>\n",
       "      <th>deptno</th>\n",
       "      <th>Number_Of_employees</th>\n",
       "    </tr>\n",
       "  </thead>\n",
       "  <tbody>\n",
       "    <tr>\n",
       "      <th>0</th>\n",
       "      <td>1</td>\n",
       "      <td>2</td>\n",
       "    </tr>\n",
       "    <tr>\n",
       "      <th>1</th>\n",
       "      <td>2</td>\n",
       "      <td>2</td>\n",
       "    </tr>\n",
       "    <tr>\n",
       "      <th>2</th>\n",
       "      <td>3</td>\n",
       "      <td>1</td>\n",
       "    </tr>\n",
       "  </tbody>\n",
       "</table>\n",
       "</div>"
      ],
      "text/plain": [
       "   deptno  Number_Of_employees\n",
       "0       1                    2\n",
       "1       2                    2\n",
       "2       3                    1"
      ]
     },
     "execution_count": 69,
     "metadata": {},
     "output_type": "execute_result"
    }
   ],
   "source": [
    "#2.Write a script to count the number of employees in each department.\n",
    "#select deptno,count(*) from Emp_Dept grouy by deptno;\n",
    "df=pd.read_csv('Emp_Dept.csv')\n",
    "df\n",
    "df.groupby('deptno')['ename'].count().reset_index(name='Number_Of_employees')"
   ]
  },
  {
   "cell_type": "code",
   "execution_count": 76,
   "id": "ab8ec46a-99bc-44d3-8a9d-fdd6b05c9152",
   "metadata": {},
   "outputs": [
    {
     "data": {
      "text/html": [
       "<div>\n",
       "<style scoped>\n",
       "    .dataframe tbody tr th:only-of-type {\n",
       "        vertical-align: middle;\n",
       "    }\n",
       "\n",
       "    .dataframe tbody tr th {\n",
       "        vertical-align: top;\n",
       "    }\n",
       "\n",
       "    .dataframe thead th {\n",
       "        text-align: right;\n",
       "    }\n",
       "</style>\n",
       "<table border=\"1\" class=\"dataframe\">\n",
       "  <thead>\n",
       "    <tr style=\"text-align: right;\">\n",
       "      <th></th>\n",
       "      <th>ename</th>\n",
       "      <th>joining_date</th>\n",
       "    </tr>\n",
       "  </thead>\n",
       "  <tbody>\n",
       "    <tr>\n",
       "      <th>2</th>\n",
       "      <td>Charlie</td>\n",
       "      <td>2021-03-30</td>\n",
       "    </tr>\n",
       "    <tr>\n",
       "      <th>4</th>\n",
       "      <td>Eve</td>\n",
       "      <td>2020-11-10</td>\n",
       "    </tr>\n",
       "    <tr>\n",
       "      <th>0</th>\n",
       "      <td>Alice</td>\n",
       "      <td>2020-01-15</td>\n",
       "    </tr>\n",
       "    <tr>\n",
       "      <th>1</th>\n",
       "      <td>Bob</td>\n",
       "      <td>2019-05-20</td>\n",
       "    </tr>\n",
       "    <tr>\n",
       "      <th>3</th>\n",
       "      <td>David</td>\n",
       "      <td>2018-08-12</td>\n",
       "    </tr>\n",
       "  </tbody>\n",
       "</table>\n",
       "</div>"
      ],
      "text/plain": [
       "     ename joining_date\n",
       "2  Charlie   2021-03-30\n",
       "4      Eve   2020-11-10\n",
       "0    Alice   2020-01-15\n",
       "1      Bob   2019-05-20\n",
       "3    David   2018-08-12"
      ]
     },
     "execution_count": 76,
     "metadata": {},
     "output_type": "execute_result"
    }
   ],
   "source": [
    "#3.Write a script to sort employees by their joining date in descending order.\n",
    "#select * from Emp_Join order by joining_date desc;\n",
    "df=pd.read_csv('Emp_Join.csv',parse_dates=['joining_date'])\n",
    "#parse_dates=['joining_date']--converts joining_date into datetime objects\n",
    "df\n",
    "df.sort_values(by='joining_date', ascending=False)"
   ]
  },
  {
   "cell_type": "code",
   "execution_count": 81,
   "id": "1db605df-dab7-4d63-b987-1af5e41bc297",
   "metadata": {},
   "outputs": [
    {
     "name": "stdout",
     "output_type": "stream",
     "text": [
      "   deptno  max_salary\n",
      "0       1       60000\n",
      "1       2       70000\n"
     ]
    }
   ],
   "source": [
    "#4.Write a script to find the maximum salary in each department.\n",
    "#select deptno,max(salary) from Dept_Sal group by deptno;\n",
    "df=pd.read_csv('Dept_Sal.csv')\n",
    "df\n",
    "max_salary=df.groupby('deptno').max('salary').reset_index()\n",
    "max_salary.columns=['deptno','max_salary']\n",
    "print(max_salary)"
   ]
  },
  {
   "cell_type": "code",
   "execution_count": 83,
   "id": "5e650782-2c92-43c5-916f-8c8cf36dfaf8",
   "metadata": {},
   "outputs": [
    {
     "name": "stdout",
     "output_type": "stream",
     "text": [
      "          city  Total_No_Employees\n",
      "0      Chicago                   1\n",
      "1  Los Angeles                   2\n",
      "2     New York                   2\n"
     ]
    }
   ],
   "source": [
    "#5.Write a script to group employees by their city and find the total number of employees in each city.\n",
    "#select city,count(*) from City_Emp group by city\n",
    "df=pd.read_csv('City_Ename.csv')\n",
    "df\n",
    "total_employees=df.groupby('city').count().reset_index()\n",
    "total_employees.columns=['city','Total_No_Employees']\n",
    "print(total_employees)"
   ]
  },
  {
   "cell_type": "code",
   "execution_count": 88,
   "id": "3e0a9b65-dc28-43b5-8759-16f919610e8d",
   "metadata": {},
   "outputs": [
    {
     "data": {
      "text/html": [
       "<div>\n",
       "<style scoped>\n",
       "    .dataframe tbody tr th:only-of-type {\n",
       "        vertical-align: middle;\n",
       "    }\n",
       "\n",
       "    .dataframe tbody tr th {\n",
       "        vertical-align: top;\n",
       "    }\n",
       "\n",
       "    .dataframe thead th {\n",
       "        text-align: right;\n",
       "    }\n",
       "</style>\n",
       "<table border=\"1\" class=\"dataframe\">\n",
       "  <thead>\n",
       "    <tr style=\"text-align: right;\">\n",
       "      <th></th>\n",
       "      <th>min</th>\n",
       "      <th>max</th>\n",
       "    </tr>\n",
       "    <tr>\n",
       "      <th>gender</th>\n",
       "      <th></th>\n",
       "      <th></th>\n",
       "    </tr>\n",
       "  </thead>\n",
       "  <tbody>\n",
       "    <tr>\n",
       "      <th>F</th>\n",
       "      <td>25</td>\n",
       "      <td>28</td>\n",
       "    </tr>\n",
       "    <tr>\n",
       "      <th>M</th>\n",
       "      <td>30</td>\n",
       "      <td>40</td>\n",
       "    </tr>\n",
       "  </tbody>\n",
       "</table>\n",
       "</div>"
      ],
      "text/plain": [
       "        min  max\n",
       "gender          \n",
       "F        25   28\n",
       "M        30   40"
      ]
     },
     "execution_count": 88,
     "metadata": {},
     "output_type": "execute_result"
    }
   ],
   "source": [
    "#6.Write a script to find the minimum and maximum age of employees grouped by their gender.\n",
    "#select gender,min(age),max(age) from Gen_Age group by gender;\n",
    "df=pd.read_csv('Gen_Age.csv')\n",
    "df\n",
    "df.groupby('gender')['age'].agg(['min','max'])"
   ]
  },
  {
   "cell_type": "code",
   "execution_count": 91,
   "id": "4f7546eb-53f4-4aa8-bd33-1d0d97630946",
   "metadata": {},
   "outputs": [
    {
     "name": "stdout",
     "output_type": "stream",
     "text": [
      "  gender  min_age  max_age\n",
      "0      F       25       28\n",
      "1      M       30       40\n"
     ]
    }
   ],
   "source": [
    "grouped=df.groupby('gender')['age'].agg(['min','max']).reset_index()\n",
    "grouped.columns=['gender','min_age','max_age']\n",
    "print(grouped)"
   ]
  },
  {
   "cell_type": "code",
   "execution_count": 93,
   "id": "062460da-e1c7-4595-888c-e4bad581b303",
   "metadata": {},
   "outputs": [
    {
     "name": "stdout",
     "output_type": "stream",
     "text": [
      "      category  total_sum\n",
      "0     Clothing       1300\n",
      "1  Electronics       2500\n",
      "2    Groceries        700\n"
     ]
    }
   ],
   "source": [
    "#7.Write a script to calculate the total sales per product category.\n",
    "#select category,sum(sales) from cat_sales group by category;\n",
    "df=pd.read_csv('Cat_Sales.csv')\n",
    "df\n",
    "total_sales=df.groupby('category')['sales'].sum().reset_index()\n",
    "total_sales.columns=['category','total_sum']\n",
    "#total_sales\n",
    "print(total_sales)\n"
   ]
  },
  {
   "cell_type": "code",
   "execution_count": 96,
   "id": "978a7a0b-a70e-4f8e-b0e7-da6b11e96e51",
   "metadata": {},
   "outputs": [
    {
     "name": "stdout",
     "output_type": "stream",
     "text": [
      "        average_salary\n",
      "deptno                \n",
      "1         56666.666667\n",
      "2         62500.000000\n",
      "3         46500.000000\n"
     ]
    }
   ],
   "source": [
    "#8.Write a script to calculate the average salary per department and store the results in a new DataFrame.\n",
    "#select deptno,avg(salary) from Dept_Sal_Ename group by deptno\n",
    "df=pd.read_csv('Dept_Sal_Ename.csv')\n",
    "df\n",
    "Average_Salary=df.groupby('deptno').mean('Salary')\n",
    "Average_Salary.rename(columns={'salary':'average_salary'},inplace=True)\n",
    "print(Average_Salary)"
   ]
  },
  {
   "cell_type": "code",
   "execution_count": 97,
   "id": "02857323-3461-4a5d-8740-b75d25c6fe93",
   "metadata": {},
   "outputs": [
    {
     "name": "stdout",
     "output_type": "stream",
     "text": [
      "   deptno  average_salary\n",
      "0       1    56666.666667\n",
      "1       2    62500.000000\n",
      "2       3    46500.000000\n"
     ]
    }
   ],
   "source": [
    "df=pd.read_csv('Dept_Sal_Ename.csv')\n",
    "df\n",
    "Average_Salary=df.groupby('deptno',as_index=False).mean('Salary')\n",
    "Average_Salary.rename(columns={'salary':'average_salary'},inplace=True)\n",
    "print(Average_Salary)"
   ]
  },
  {
   "cell_type": "code",
   "execution_count": null,
   "id": "c1b0876f-bbab-4841-bd1f-f2a7357ed1af",
   "metadata": {},
   "outputs": [],
   "source": [
    "#By default, when you use groupby in Pandas without specifying as_index=False, the grouped column(s) become the index of the resulting DataFrame\n",
    "#and the output is series.\n",
    "#But when we use as_index=True,we get the index as shown above like: 0 1 2 and output is dataframe. "
   ]
  }
 ],
 "metadata": {
  "kernelspec": {
   "display_name": "Python 3 (ipykernel)",
   "language": "python",
   "name": "python3"
  },
  "language_info": {
   "codemirror_mode": {
    "name": "ipython",
    "version": 3
   },
   "file_extension": ".py",
   "mimetype": "text/x-python",
   "name": "python",
   "nbconvert_exporter": "python",
   "pygments_lexer": "ipython3",
   "version": "3.12.6"
  }
 },
 "nbformat": 4,
 "nbformat_minor": 5
}
